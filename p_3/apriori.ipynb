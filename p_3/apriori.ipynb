{
 "cells": [
  {
   "cell_type": "markdown",
   "id": "fbf306bb",
   "metadata": {},
   "source": [
    "From the UCI ML Datasets, apply Apriori algorithm for given data for frequently occuring items and generate strong association rules using support and confidence thresholds. For example, Market basket analysis"
   ]
  },
  {
   "cell_type": "code",
   "execution_count": 1,
   "id": "f38dcf74",
   "metadata": {},
   "outputs": [],
   "source": [
    "import numpy as np\n",
    "import pandas as pd\n",
    "import matplotlib.pyplot as plt\n",
    "import seaborn as sns\n",
    "from mlxtend.frequent_patterns import apriori, association_rules"
   ]
  },
  {
   "cell_type": "code",
   "execution_count": 2,
   "id": "29ece3d3",
   "metadata": {},
   "outputs": [],
   "source": [
    "df1 = pd.read_csv('./basket_analysis.csv', index_col=0)"
   ]
  },
  {
   "cell_type": "code",
   "execution_count": 3,
   "id": "0e404250",
   "metadata": {},
   "outputs": [
    {
     "data": {
      "text/html": [
       "<div>\n",
       "<style scoped>\n",
       "    .dataframe tbody tr th:only-of-type {\n",
       "        vertical-align: middle;\n",
       "    }\n",
       "\n",
       "    .dataframe tbody tr th {\n",
       "        vertical-align: top;\n",
       "    }\n",
       "\n",
       "    .dataframe thead th {\n",
       "        text-align: right;\n",
       "    }\n",
       "</style>\n",
       "<table border=\"1\" class=\"dataframe\">\n",
       "  <thead>\n",
       "    <tr style=\"text-align: right;\">\n",
       "      <th></th>\n",
       "      <th>Apple</th>\n",
       "      <th>Bread</th>\n",
       "      <th>Butter</th>\n",
       "      <th>Cheese</th>\n",
       "      <th>Corn</th>\n",
       "      <th>Dill</th>\n",
       "      <th>Eggs</th>\n",
       "      <th>Ice cream</th>\n",
       "      <th>Kidney Beans</th>\n",
       "      <th>Milk</th>\n",
       "      <th>Nutmeg</th>\n",
       "      <th>Onion</th>\n",
       "      <th>Sugar</th>\n",
       "      <th>Unicorn</th>\n",
       "      <th>Yogurt</th>\n",
       "      <th>chocolate</th>\n",
       "    </tr>\n",
       "  </thead>\n",
       "  <tbody>\n",
       "    <tr>\n",
       "      <th>0</th>\n",
       "      <td>False</td>\n",
       "      <td>True</td>\n",
       "      <td>False</td>\n",
       "      <td>False</td>\n",
       "      <td>True</td>\n",
       "      <td>True</td>\n",
       "      <td>False</td>\n",
       "      <td>True</td>\n",
       "      <td>False</td>\n",
       "      <td>False</td>\n",
       "      <td>False</td>\n",
       "      <td>False</td>\n",
       "      <td>True</td>\n",
       "      <td>False</td>\n",
       "      <td>True</td>\n",
       "      <td>True</td>\n",
       "    </tr>\n",
       "    <tr>\n",
       "      <th>1</th>\n",
       "      <td>False</td>\n",
       "      <td>False</td>\n",
       "      <td>False</td>\n",
       "      <td>False</td>\n",
       "      <td>False</td>\n",
       "      <td>False</td>\n",
       "      <td>False</td>\n",
       "      <td>False</td>\n",
       "      <td>False</td>\n",
       "      <td>True</td>\n",
       "      <td>False</td>\n",
       "      <td>False</td>\n",
       "      <td>False</td>\n",
       "      <td>False</td>\n",
       "      <td>False</td>\n",
       "      <td>False</td>\n",
       "    </tr>\n",
       "    <tr>\n",
       "      <th>2</th>\n",
       "      <td>True</td>\n",
       "      <td>False</td>\n",
       "      <td>True</td>\n",
       "      <td>False</td>\n",
       "      <td>False</td>\n",
       "      <td>True</td>\n",
       "      <td>False</td>\n",
       "      <td>True</td>\n",
       "      <td>False</td>\n",
       "      <td>True</td>\n",
       "      <td>False</td>\n",
       "      <td>False</td>\n",
       "      <td>False</td>\n",
       "      <td>False</td>\n",
       "      <td>True</td>\n",
       "      <td>True</td>\n",
       "    </tr>\n",
       "    <tr>\n",
       "      <th>3</th>\n",
       "      <td>False</td>\n",
       "      <td>False</td>\n",
       "      <td>True</td>\n",
       "      <td>True</td>\n",
       "      <td>False</td>\n",
       "      <td>True</td>\n",
       "      <td>False</td>\n",
       "      <td>False</td>\n",
       "      <td>False</td>\n",
       "      <td>True</td>\n",
       "      <td>True</td>\n",
       "      <td>True</td>\n",
       "      <td>False</td>\n",
       "      <td>False</td>\n",
       "      <td>False</td>\n",
       "      <td>False</td>\n",
       "    </tr>\n",
       "    <tr>\n",
       "      <th>4</th>\n",
       "      <td>True</td>\n",
       "      <td>True</td>\n",
       "      <td>False</td>\n",
       "      <td>False</td>\n",
       "      <td>False</td>\n",
       "      <td>False</td>\n",
       "      <td>False</td>\n",
       "      <td>False</td>\n",
       "      <td>False</td>\n",
       "      <td>False</td>\n",
       "      <td>False</td>\n",
       "      <td>False</td>\n",
       "      <td>False</td>\n",
       "      <td>False</td>\n",
       "      <td>False</td>\n",
       "      <td>False</td>\n",
       "    </tr>\n",
       "  </tbody>\n",
       "</table>\n",
       "</div>"
      ],
      "text/plain": [
       "   Apple  Bread  Butter  Cheese   Corn   Dill   Eggs  Ice cream  Kidney Beans  \\\n",
       "0  False   True   False   False   True   True  False       True         False   \n",
       "1  False  False   False   False  False  False  False      False         False   \n",
       "2   True  False    True   False  False   True  False       True         False   \n",
       "3  False  False    True    True  False   True  False      False         False   \n",
       "4   True   True   False   False  False  False  False      False         False   \n",
       "\n",
       "    Milk  Nutmeg  Onion  Sugar  Unicorn  Yogurt  chocolate  \n",
       "0  False   False  False   True    False    True       True  \n",
       "1   True   False  False  False    False   False      False  \n",
       "2   True   False  False  False    False    True       True  \n",
       "3   True    True   True  False    False   False      False  \n",
       "4  False   False  False  False    False   False      False  "
      ]
     },
     "execution_count": 3,
     "metadata": {},
     "output_type": "execute_result"
    }
   ],
   "source": [
    "df1.head()"
   ]
  },
  {
   "cell_type": "code",
   "execution_count": 4,
   "id": "8fe02498",
   "metadata": {},
   "outputs": [
    {
     "name": "stdout",
     "output_type": "stream",
     "text": [
      "<class 'pandas.core.frame.DataFrame'>\n",
      "Index: 999 entries, 0 to 998\n",
      "Data columns (total 16 columns):\n",
      " #   Column        Non-Null Count  Dtype\n",
      "---  ------        --------------  -----\n",
      " 0   Apple         999 non-null    bool \n",
      " 1   Bread         999 non-null    bool \n",
      " 2   Butter        999 non-null    bool \n",
      " 3   Cheese        999 non-null    bool \n",
      " 4   Corn          999 non-null    bool \n",
      " 5   Dill          999 non-null    bool \n",
      " 6   Eggs          999 non-null    bool \n",
      " 7   Ice cream     999 non-null    bool \n",
      " 8   Kidney Beans  999 non-null    bool \n",
      " 9   Milk          999 non-null    bool \n",
      " 10  Nutmeg        999 non-null    bool \n",
      " 11  Onion         999 non-null    bool \n",
      " 12  Sugar         999 non-null    bool \n",
      " 13  Unicorn       999 non-null    bool \n",
      " 14  Yogurt        999 non-null    bool \n",
      " 15  chocolate     999 non-null    bool \n",
      "dtypes: bool(16)\n",
      "memory usage: 23.4 KB\n"
     ]
    }
   ],
   "source": [
    "df1.info()"
   ]
  },
  {
   "cell_type": "code",
   "execution_count": 5,
   "id": "459c2604",
   "metadata": {},
   "outputs": [],
   "source": [
    "df = df1.astype('int64')"
   ]
  },
  {
   "cell_type": "code",
   "execution_count": 6,
   "id": "3c7d325a",
   "metadata": {},
   "outputs": [
    {
     "data": {
      "text/html": [
       "<div>\n",
       "<style scoped>\n",
       "    .dataframe tbody tr th:only-of-type {\n",
       "        vertical-align: middle;\n",
       "    }\n",
       "\n",
       "    .dataframe tbody tr th {\n",
       "        vertical-align: top;\n",
       "    }\n",
       "\n",
       "    .dataframe thead th {\n",
       "        text-align: right;\n",
       "    }\n",
       "</style>\n",
       "<table border=\"1\" class=\"dataframe\">\n",
       "  <thead>\n",
       "    <tr style=\"text-align: right;\">\n",
       "      <th></th>\n",
       "      <th>Apple</th>\n",
       "      <th>Bread</th>\n",
       "      <th>Butter</th>\n",
       "      <th>Cheese</th>\n",
       "      <th>Corn</th>\n",
       "      <th>Dill</th>\n",
       "      <th>Eggs</th>\n",
       "      <th>Ice cream</th>\n",
       "      <th>Kidney Beans</th>\n",
       "      <th>Milk</th>\n",
       "      <th>Nutmeg</th>\n",
       "      <th>Onion</th>\n",
       "      <th>Sugar</th>\n",
       "      <th>Unicorn</th>\n",
       "      <th>Yogurt</th>\n",
       "      <th>chocolate</th>\n",
       "    </tr>\n",
       "  </thead>\n",
       "  <tbody>\n",
       "    <tr>\n",
       "      <th>0</th>\n",
       "      <td>0</td>\n",
       "      <td>1</td>\n",
       "      <td>0</td>\n",
       "      <td>0</td>\n",
       "      <td>1</td>\n",
       "      <td>1</td>\n",
       "      <td>0</td>\n",
       "      <td>1</td>\n",
       "      <td>0</td>\n",
       "      <td>0</td>\n",
       "      <td>0</td>\n",
       "      <td>0</td>\n",
       "      <td>1</td>\n",
       "      <td>0</td>\n",
       "      <td>1</td>\n",
       "      <td>1</td>\n",
       "    </tr>\n",
       "    <tr>\n",
       "      <th>1</th>\n",
       "      <td>0</td>\n",
       "      <td>0</td>\n",
       "      <td>0</td>\n",
       "      <td>0</td>\n",
       "      <td>0</td>\n",
       "      <td>0</td>\n",
       "      <td>0</td>\n",
       "      <td>0</td>\n",
       "      <td>0</td>\n",
       "      <td>1</td>\n",
       "      <td>0</td>\n",
       "      <td>0</td>\n",
       "      <td>0</td>\n",
       "      <td>0</td>\n",
       "      <td>0</td>\n",
       "      <td>0</td>\n",
       "    </tr>\n",
       "    <tr>\n",
       "      <th>2</th>\n",
       "      <td>1</td>\n",
       "      <td>0</td>\n",
       "      <td>1</td>\n",
       "      <td>0</td>\n",
       "      <td>0</td>\n",
       "      <td>1</td>\n",
       "      <td>0</td>\n",
       "      <td>1</td>\n",
       "      <td>0</td>\n",
       "      <td>1</td>\n",
       "      <td>0</td>\n",
       "      <td>0</td>\n",
       "      <td>0</td>\n",
       "      <td>0</td>\n",
       "      <td>1</td>\n",
       "      <td>1</td>\n",
       "    </tr>\n",
       "    <tr>\n",
       "      <th>3</th>\n",
       "      <td>0</td>\n",
       "      <td>0</td>\n",
       "      <td>1</td>\n",
       "      <td>1</td>\n",
       "      <td>0</td>\n",
       "      <td>1</td>\n",
       "      <td>0</td>\n",
       "      <td>0</td>\n",
       "      <td>0</td>\n",
       "      <td>1</td>\n",
       "      <td>1</td>\n",
       "      <td>1</td>\n",
       "      <td>0</td>\n",
       "      <td>0</td>\n",
       "      <td>0</td>\n",
       "      <td>0</td>\n",
       "    </tr>\n",
       "    <tr>\n",
       "      <th>4</th>\n",
       "      <td>1</td>\n",
       "      <td>1</td>\n",
       "      <td>0</td>\n",
       "      <td>0</td>\n",
       "      <td>0</td>\n",
       "      <td>0</td>\n",
       "      <td>0</td>\n",
       "      <td>0</td>\n",
       "      <td>0</td>\n",
       "      <td>0</td>\n",
       "      <td>0</td>\n",
       "      <td>0</td>\n",
       "      <td>0</td>\n",
       "      <td>0</td>\n",
       "      <td>0</td>\n",
       "      <td>0</td>\n",
       "    </tr>\n",
       "  </tbody>\n",
       "</table>\n",
       "</div>"
      ],
      "text/plain": [
       "   Apple  Bread  Butter  Cheese  Corn  Dill  Eggs  Ice cream  Kidney Beans  \\\n",
       "0      0      1       0       0     1     1     0          1             0   \n",
       "1      0      0       0       0     0     0     0          0             0   \n",
       "2      1      0       1       0     0     1     0          1             0   \n",
       "3      0      0       1       1     0     1     0          0             0   \n",
       "4      1      1       0       0     0     0     0          0             0   \n",
       "\n",
       "   Milk  Nutmeg  Onion  Sugar  Unicorn  Yogurt  chocolate  \n",
       "0     0       0      0      1        0       1          1  \n",
       "1     1       0      0      0        0       0          0  \n",
       "2     1       0      0      0        0       1          1  \n",
       "3     1       1      1      0        0       0          0  \n",
       "4     0       0      0      0        0       0          0  "
      ]
     },
     "execution_count": 6,
     "metadata": {},
     "output_type": "execute_result"
    }
   ],
   "source": [
    "df.head()"
   ]
  },
  {
   "cell_type": "code",
   "execution_count": 7,
   "id": "bf46153a",
   "metadata": {},
   "outputs": [
    {
     "name": "stdout",
     "output_type": "stream",
     "text": [
      "<class 'pandas.core.frame.DataFrame'>\n",
      "Index: 999 entries, 0 to 998\n",
      "Data columns (total 16 columns):\n",
      " #   Column        Non-Null Count  Dtype\n",
      "---  ------        --------------  -----\n",
      " 0   Apple         999 non-null    int64\n",
      " 1   Bread         999 non-null    int64\n",
      " 2   Butter        999 non-null    int64\n",
      " 3   Cheese        999 non-null    int64\n",
      " 4   Corn          999 non-null    int64\n",
      " 5   Dill          999 non-null    int64\n",
      " 6   Eggs          999 non-null    int64\n",
      " 7   Ice cream     999 non-null    int64\n",
      " 8   Kidney Beans  999 non-null    int64\n",
      " 9   Milk          999 non-null    int64\n",
      " 10  Nutmeg        999 non-null    int64\n",
      " 11  Onion         999 non-null    int64\n",
      " 12  Sugar         999 non-null    int64\n",
      " 13  Unicorn       999 non-null    int64\n",
      " 14  Yogurt        999 non-null    int64\n",
      " 15  chocolate     999 non-null    int64\n",
      "dtypes: int64(16)\n",
      "memory usage: 132.7 KB\n"
     ]
    }
   ],
   "source": [
    "df.info()"
   ]
  },
  {
   "cell_type": "code",
   "execution_count": 8,
   "id": "759b95df",
   "metadata": {},
   "outputs": [],
   "source": [
    "%%capture \n",
    "# the %%capture above hides the warning for this cell\n",
    "frequent_itemsets = apriori(df, min_support=0.2, use_colnames=True)"
   ]
  },
  {
   "cell_type": "code",
   "execution_count": 9,
   "id": "6d9d2acc",
   "metadata": {},
   "outputs": [
    {
     "name": "stdout",
     "output_type": "stream",
     "text": [
      "<class 'pandas.core.frame.DataFrame'>\n"
     ]
    }
   ],
   "source": [
    "print(type(frequent_itemsets))"
   ]
  },
  {
   "cell_type": "code",
   "execution_count": 10,
   "id": "0c80b0ac",
   "metadata": {},
   "outputs": [
    {
     "name": "stdout",
     "output_type": "stream",
     "text": [
      "     support                itemsets\n",
      "0   0.383383                 (Apple)\n",
      "1   0.384384                 (Bread)\n",
      "2   0.420420                (Butter)\n",
      "3   0.404404                (Cheese)\n",
      "4   0.407407                  (Corn)\n",
      "5   0.398398                  (Dill)\n",
      "6   0.384384                  (Eggs)\n",
      "7   0.410410             (Ice cream)\n",
      "8   0.408408          (Kidney Beans)\n",
      "9   0.405405                  (Milk)\n",
      "10  0.401401                (Nutmeg)\n",
      "11  0.403403                 (Onion)\n",
      "12  0.409409                 (Sugar)\n",
      "13  0.389389               (Unicorn)\n",
      "14  0.420420                (Yogurt)\n",
      "15  0.421421             (chocolate)\n",
      "16  0.207207     (Ice cream, Butter)\n",
      "17  0.202202  (Kidney Beans, Butter)\n",
      "18  0.202202     (chocolate, Butter)\n",
      "19  0.200200  (Cheese, Kidney Beans)\n",
      "20  0.202202  (Ice cream, chocolate)\n",
      "21  0.211211       (Milk, chocolate)\n"
     ]
    }
   ],
   "source": [
    "print(frequent_itemsets)"
   ]
  },
  {
   "cell_type": "code",
   "execution_count": 11,
   "id": "65a4136f",
   "metadata": {},
   "outputs": [],
   "source": [
    "rules = association_rules(frequent_itemsets, metric=\"support\", min_threshold=0.2)"
   ]
  },
  {
   "cell_type": "code",
   "execution_count": 12,
   "id": "0e7c5e2a",
   "metadata": {},
   "outputs": [
    {
     "name": "stdout",
     "output_type": "stream",
     "text": [
      "       antecedents     consequents   support  confidence      lift\n",
      "0      (Ice cream)        (Butter)  0.207207    0.504878  1.200889\n",
      "1         (Butter)     (Ice cream)  0.207207    0.492857  1.200889\n",
      "2   (Kidney Beans)        (Butter)  0.202202    0.495098  1.177626\n",
      "3         (Butter)  (Kidney Beans)  0.202202    0.480952  1.177626\n",
      "4      (chocolate)        (Butter)  0.202202    0.479810  1.141262\n",
      "5         (Butter)     (chocolate)  0.202202    0.480952  1.141262\n",
      "6         (Cheese)  (Kidney Beans)  0.200200    0.495050  1.212143\n",
      "7   (Kidney Beans)        (Cheese)  0.200200    0.490196  1.212143\n",
      "8      (Ice cream)     (chocolate)  0.202202    0.492683  1.169098\n",
      "9      (chocolate)     (Ice cream)  0.202202    0.479810  1.169098\n",
      "10          (Milk)     (chocolate)  0.211211    0.520988  1.236263\n",
      "11     (chocolate)          (Milk)  0.211211    0.501188  1.236263\n"
     ]
    }
   ],
   "source": [
    "print(rules[['antecedents', 'consequents', 'support', 'confidence', 'lift']])"
   ]
  },
  {
   "cell_type": "code",
   "execution_count": 13,
   "id": "0490e9cc",
   "metadata": {},
   "outputs": [],
   "source": [
    "rules['rule_pair'] = rules.apply(lambda row: tuple(sorted(list(row['antecedents']) + list(row['consequents']))), axis=1)"
   ]
  },
  {
   "cell_type": "code",
   "execution_count": 14,
   "id": "798d4155",
   "metadata": {},
   "outputs": [],
   "source": [
    "rules_unique = rules.drop_duplicates(subset=['rule_pair']).drop(columns=['rule_pair'])"
   ]
  },
  {
   "cell_type": "code",
   "execution_count": 15,
   "id": "c30b26d1",
   "metadata": {},
   "outputs": [
    {
     "name": "stdout",
     "output_type": "stream",
     "text": [
      "       antecedents     consequents   support  confidence      lift\n",
      "0      (Ice cream)        (Butter)  0.207207    0.504878  1.200889\n",
      "2   (Kidney Beans)        (Butter)  0.202202    0.495098  1.177626\n",
      "4      (chocolate)        (Butter)  0.202202    0.479810  1.141262\n",
      "6         (Cheese)  (Kidney Beans)  0.200200    0.495050  1.212143\n",
      "8      (Ice cream)     (chocolate)  0.202202    0.492683  1.169098\n",
      "10          (Milk)     (chocolate)  0.211211    0.520988  1.236263\n"
     ]
    }
   ],
   "source": [
    "print(rules_unique[['antecedents', 'consequents', 'support', 'confidence', 'lift']])"
   ]
  }
 ],
 "metadata": {
  "kernelspec": {
   "display_name": "env",
   "language": "python",
   "name": "python3"
  },
  "language_info": {
   "codemirror_mode": {
    "name": "ipython",
    "version": 3
   },
   "file_extension": ".py",
   "mimetype": "text/x-python",
   "name": "python",
   "nbconvert_exporter": "python",
   "pygments_lexer": "ipython3",
   "version": "3.13.3"
  }
 },
 "nbformat": 4,
 "nbformat_minor": 5
}
